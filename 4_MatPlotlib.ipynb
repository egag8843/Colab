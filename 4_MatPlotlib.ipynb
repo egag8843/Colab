{
  "nbformat": 4,
  "nbformat_minor": 0,
  "metadata": {
    "colab": {
      "name": "4_MatPlotlib.ipynb",
      "provenance": [],
      "authorship_tag": "ABX9TyOMh95W+7zVTg6j1NdSJZXg",
      "include_colab_link": true
    },
    "kernelspec": {
      "name": "python3",
      "display_name": "Python 3"
    },
    "language_info": {
      "name": "python"
    }
  },
  "cells": [
    {
      "cell_type": "markdown",
      "metadata": {
        "id": "view-in-github",
        "colab_type": "text"
      },
      "source": [
        "<a href=\"https://colab.research.google.com/github/egag8843/Colab/blob/main/4_MatPlotlib.ipynb\" target=\"_parent\"><img src=\"https://colab.research.google.com/assets/colab-badge.svg\" alt=\"Open In Colab\"/></a>"
      ]
    },
    {
      "cell_type": "code",
      "metadata": {
        "id": "kH427cr6oLME"
      },
      "source": [
        "\"\"\"\n",
        "날짜 : 2021/07/05\n",
        "이름 : 장경준\n",
        "내용 : 파이썬 matplot 실습\n",
        "\"\"\"\n",
        "import matplotlib.pyplot as plt\n",
        "import numpy as np"
      ],
      "execution_count": 2,
      "outputs": []
    },
    {
      "cell_type": "code",
      "metadata": {
        "id": "i71URKeVovmW"
      },
      "source": [
        "#기본 플롯차트\n",
        "plt.title('plot1')\n",
        "plt.plot([1,3,4,9,10,17])\n",
        "plt.show()"
      ],
      "execution_count": null,
      "outputs": []
    },
    {
      "cell_type": "code",
      "metadata": {
        "id": "lXbfmiH6o_sk"
      },
      "source": [
        "# x축 설정\n",
        "plt.title('plot2')\n",
        "plt.plot([10,20,30,40,50,60],[1,3,4,9,10,17])\n",
        "plt.show()"
      ],
      "execution_count": null,
      "outputs": []
    },
    {
      "cell_type": "code",
      "metadata": {
        "id": "34yuplZUpR8l"
      },
      "source": [
        "# 차트 스타일\n",
        "plt.title('plot3')\n",
        "plt.plot([10,20,30,40,50,60],[1,3,4,9,10,17],'bo-') # green, 동그라미, : -> 점선\n",
        "plt.show()"
      ],
      "execution_count": null,
      "outputs": []
    },
    {
      "cell_type": "code",
      "metadata": {
        "id": "mY422mBsp3NK"
      },
      "source": [
        "# 멀티 라인차트 스타일\n",
        "val = np.arange(0,5,0.2)\n",
        "print(val)\n",
        "\n",
        "plt.title('plot4')\n",
        "plt.plot(val, val, 'r--') \n",
        "plt.plot(val, val ** 2, 'g--') # ** 거듭제곱\n",
        "plt.plot(val, val ** 3, 'b--') \n",
        "plt.show()"
      ],
      "execution_count": null,
      "outputs": []
    },
    {
      "cell_type": "code",
      "metadata": {
        "id": "sESna_EgrBgA"
      },
      "source": [
        "#막대 그래프\n",
        "plt.title('plot5')\n",
        "plt.bar(['apple','banana','orange','grape','berry'],[5,3,7,9,8])\n",
        "plt.xlabel(\"fruit\")\n",
        "plt.ylabel(\"count\")\n",
        "plt.show()"
      ],
      "execution_count": null,
      "outputs": []
    },
    {
      "cell_type": "code",
      "metadata": {
        "colab": {
          "base_uri": "https://localhost:8080/",
          "height": 281
        },
        "id": "tV6LbBW3rWqM",
        "outputId": "bf1509c0-31d1-450b-eebf-4c6446e875b6"
      },
      "source": [
        "# 히스토그램\n",
        "data1 = np.random.rand(1000) # 0~1사이의 임의의 실수 1000개\n",
        "data2 = np.random.randn(1000) # 0~1사이의 정규분포를 따르는 실수 1000개\n",
        "\n",
        "plt.title('histogram1')\n",
        "plt.hist(data1, edgecolor='black')\n",
        "plt.show()"
      ],
      "execution_count": 27,
      "outputs": [
        {
          "output_type": "display_data",
          "data": {
            "image/png": "[encoded data removed]",
            "text/plain": [
              "<Figure size 432x288 with 1 Axes>"
            ]
          },
          "metadata": {
            "tags": [],
            "needs_background": "light"
          }
        }
      ]
    },
    {
      "cell_type": "code",
      "metadata": {
        "colab": {
          "base_uri": "https://localhost:8080/",
          "height": 281
        },
        "id": "jgotSP0CsFKq",
        "outputId": "65b86cd9-63de-447d-ac18-038a975ca03c"
      },
      "source": [
        "plt.title('histogram2')\n",
        "plt.hist(data2, edgecolor=\"black\")\n",
        "plt.show()"
      ],
      "execution_count": 28,
      "outputs": [
        {
          "output_type": "display_data",
          "data": {
            "image/png": "[encoded data removed]",
            "text/plain": [
              "<Figure size 432x288 with 1 Axes>"
            ]
          },
          "metadata": {
            "tags": [],
            "needs_background": "light"
          }
        }
      ]
    },
    {
      "cell_type": "code",
      "metadata": {
        "colab": {
          "base_uri": "https://localhost:8080/",
          "height": 281
        },
        "id": "q9J-NxIgsOFd",
        "outputId": "4dd75292-c6a1-476a-d1b4-5e7a182731a3"
      },
      "source": [
        "#산정도\n",
        "x = np.random.normal(0,1,1000) # 정규분포를 따르고 평균이 0, 표준편차 1, 실수 1000개\n",
        "y = np.random.normal(0,1,1000)\n",
        "\n",
        "plt.title('scatter')\n",
        "plt.scatter(x,y)\n",
        "plt.show()"
      ],
      "execution_count": 29,
      "outputs": [
        {
          "output_type": "display_data",
          "data": {
            "image/png": "[encoded data removed]",
            "text/plain": [
              "<Figure size 432x288 with 1 Axes>"
            ]
          },
          "metadata": {
            "tags": [],
            "needs_background": "light"
          }
        }
      ]
    }
  ]
}