{
  "nbformat": 4,
  "nbformat_minor": 0,
  "metadata": {
    "colab": {
      "name": "9_다중 선형회귀.ipynb",
      "provenance": [],
      "authorship_tag": "ABX9TyPwQ+yhdoNAYHGijQi8QLE1",
      "include_colab_link": true
    },
    "kernelspec": {
      "name": "python3",
      "display_name": "Python 3"
    },
    "language_info": {
      "name": "python"
    }
  },
  "cells": [
    {
      "cell_type": "markdown",
      "metadata": {
        "id": "view-in-github",
        "colab_type": "text"
      },
      "source": [
        "<a href=\"https://colab.research.google.com/github/egag8843/Colab/blob/main/9_%EB%8B%A4%EC%A4%91_%EC%84%A0%ED%98%95%ED%9A%8C%EA%B7%80.ipynb\" target=\"_parent\"><img src=\"https://colab.research.google.com/assets/colab-badge.svg\" alt=\"Open In Colab\"/></a>"
      ]
    },
    {
      "cell_type": "code",
      "metadata": {
        "id": "PBjnvYLwjWj_"
      },
      "source": [
        "\"\"\"\n",
        "날짜 : 2021/07/07\n",
        "이름 : 장경준\n",
        "내용 : 선형회귀 분석 실습\n",
        "\"\"\"\n",
        "from sklearn.linear_model import LinearRegression\n",
        "from sklearn import svm"
      ],
      "execution_count": 6,
      "outputs": []
    },
    {
      "cell_type": "code",
      "metadata": {
        "id": "zDyhAt0fjjbs"
      },
      "source": [
        "#학습데이터\n",
        "train_data = [[170,30],[165,60],[150,50],[175,40],[165,20]]\n",
        "train_label = [65, 50, 45, 70, 55]"
      ],
      "execution_count": 3,
      "outputs": []
    },
    {
      "cell_type": "code",
      "metadata": {
        "colab": {
          "base_uri": "https://localhost:8080/"
        },
        "id": "gnSkw4_zkODG",
        "outputId": "704f2ecf-43b9-4940-e535-bc33211b722e"
      },
      "source": [
        "#model = LinearRegression()\n",
        "model = svm.SVC() \n",
        "model.fit(train_data, train_label)\n",
        "\n",
        "LinearRegression(copy_X=True, fit_intercept=True, n_jobs=None, normalize=False)"
      ],
      "execution_count": 7,
      "outputs": [
        {
          "output_type": "execute_result",
          "data": {
            "text/plain": [
              "LinearRegression(copy_X=True, fit_intercept=True, n_jobs=None, normalize=False)"
            ]
          },
          "metadata": {
            "tags": []
          },
          "execution_count": 7
        }
      ]
    },
    {
      "cell_type": "code",
      "metadata": {
        "colab": {
          "base_uri": "https://localhost:8080/"
        },
        "id": "15Stt7HnkXue",
        "outputId": "0575225a-2402-4b10-d9dd-82065e8b7000"
      },
      "source": [
        "#테스트하기\n",
        "test_data = [[172,21],[186,43],[178,39]]\n",
        "rs = model.predict(test_data)\n",
        "rs"
      ],
      "execution_count": 9,
      "outputs": [
        {
          "output_type": "execute_result",
          "data": {
            "text/plain": [
              "array([55, 70, 70])"
            ]
          },
          "metadata": {
            "tags": []
          },
          "execution_count": 9
        }
      ]
    },
    {
      "cell_type": "code",
      "metadata": {
        "id": "RqbALrfhlZco"
      },
      "source": [
        "#다중 선형회귀 문제\n",
        "train_data = [[170,30,1],[165,60,2],[150,50,2],[175,40,1],[165,20,1]]\n",
        "train_label = [65, 50, 45, 70, 55]"
      ],
      "execution_count": 12,
      "outputs": []
    },
    {
      "cell_type": "code",
      "metadata": {
        "colab": {
          "base_uri": "https://localhost:8080/"
        },
        "id": "3IxUNZRzmRRt",
        "outputId": "ee04deae-da8a-41ae-999c-9b0bbc1624f9"
      },
      "source": [
        "model = LinearRegression()\n",
        "model.fit(train_data, train_label)\n",
        "LinearRegression(copy_X=True, fit_intercept=True, n_jobs=None, normalize=False)"
      ],
      "execution_count": 14,
      "outputs": [
        {
          "output_type": "execute_result",
          "data": {
            "text/plain": [
              "LinearRegression(copy_X=True, fit_intercept=True, n_jobs=None, normalize=False)"
            ]
          },
          "metadata": {
            "tags": []
          },
          "execution_count": 14
        }
      ]
    },
    {
      "cell_type": "code",
      "metadata": {
        "colab": {
          "base_uri": "https://localhost:8080/"
        },
        "id": "ininOqUEmXau",
        "outputId": "e526de53-f269-4dc3-c2db-8931334f3a83"
      },
      "source": [
        "test_data = [[172,21,1],[186,43,1],[178,39,2]]\n",
        "rs = model.predict(test_data)\n",
        "rs"
      ],
      "execution_count": 16,
      "outputs": [
        {
          "output_type": "execute_result",
          "data": {
            "text/plain": [
              "array([54.95833333, 70.70833333, 28.375     ])"
            ]
          },
          "metadata": {
            "tags": []
          },
          "execution_count": 16
        }
      ]
    }
  ]
}