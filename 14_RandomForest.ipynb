{
  "nbformat": 4,
  "nbformat_minor": 0,
  "metadata": {
    "colab": {
      "name": "14_RandomForest.ipynb",
      "provenance": [],
      "authorship_tag": "ABX9TyMVcPefhgCw7OdPBYQVlOPA",
      "include_colab_link": true
    },
    "kernelspec": {
      "name": "python3",
      "display_name": "Python 3"
    },
    "language_info": {
      "name": "python"
    }
  },
  "cells": [
    {
      "cell_type": "markdown",
      "metadata": {
        "id": "view-in-github",
        "colab_type": "text"
      },
      "source": [
        "<a href=\"https://colab.research.google.com/github/egag8843/Colab/blob/main/14_RandomForest.ipynb\" target=\"_parent\"><img src=\"https://colab.research.google.com/assets/colab-badge.svg\" alt=\"Open In Colab\"/></a>"
      ]
    },
    {
      "cell_type": "code",
      "metadata": {
        "id": "OFsRb5hRxoVK"
      },
      "source": [
        "\"\"\"\n",
        "날짜 : 2021/07/09\n",
        "이름 : 장경준\n",
        "내용 : 렌덤포레스트 실습\n",
        "\"\"\"\n",
        "import pandas as pd\n",
        "import seaborn as sns\n",
        "from sklearn import model_selection\n",
        "from sklearn.ensemble import  RandomForestClassifier\n",
        "from sklearn.model_selection import  train_test_split"
      ],
      "execution_count": 3,
      "outputs": []
    },
    {
      "cell_type": "code",
      "metadata": {
        "id": "VCaipWW5yfGH"
      },
      "source": [
        "# 데이터셋 확인\n",
        "sns.get_dataset_names()"
      ],
      "execution_count": null,
      "outputs": []
    },
    {
      "cell_type": "code",
      "metadata": {
        "id": "g4NM0zLOyu1G"
      },
      "source": [
        "# 데이터셋 불러오기\n",
        "df_iris = sns.load_dataset('iris')\n",
        "df_iris"
      ],
      "execution_count": null,
      "outputs": []
    },
    {
      "cell_type": "code",
      "metadata": {
        "id": "pgLkLJHYz4im"
      },
      "source": [
        "# 학습 데이터 준비\n",
        "iris_data = df_iris[['sepal_length','sepal_width','petal_length','petal_width']]\n",
        "iris_label = df_iris['species']\n",
        "\n",
        "train_data, test_data, train_label, test_label = train_test_split(iris_data,iris_label)"
      ],
      "execution_count": 10,
      "outputs": []
    },
    {
      "cell_type": "code",
      "metadata": {
        "colab": {
          "base_uri": "https://localhost:8080/"
        },
        "id": "C7bqvr9N0N_m",
        "outputId": "28e6916b-c35d-4bc3-d409-cad435b8af61"
      },
      "source": [
        "# 학습하기\n",
        "model =RandomForestClassifier()\n",
        "model.fit(train_data, train_label)"
      ],
      "execution_count": 11,
      "outputs": [
        {
          "output_type": "execute_result",
          "data": {
            "text/plain": [
              "RandomForestClassifier(bootstrap=True, ccp_alpha=0.0, class_weight=None,\n",
              "                       criterion='gini', max_depth=None, max_features='auto',\n",
              "                       max_leaf_nodes=None, max_samples=None,\n",
              "                       min_impurity_decrease=0.0, min_impurity_split=None,\n",
              "                       min_samples_leaf=1, min_samples_split=2,\n",
              "                       min_weight_fraction_leaf=0.0, n_estimators=100,\n",
              "                       n_jobs=None, oob_score=False, random_state=None,\n",
              "                       verbose=0, warm_start=False)"
            ]
          },
          "metadata": {
            "tags": []
          },
          "execution_count": 11
        }
      ]
    },
    {
      "cell_type": "code",
      "metadata": {
        "colab": {
          "base_uri": "https://localhost:8080/"
        },
        "id": "HUrBrW7u1cE1",
        "outputId": "955c15cc-7a91-4a76-ee1a-b2e557e197c6"
      },
      "source": [
        "# 테스트하기\n",
        "result = model.predict(test_data)\n",
        "result"
      ],
      "execution_count": 12,
      "outputs": [
        {
          "output_type": "execute_result",
          "data": {
            "text/plain": [
              "array(['setosa', 'setosa', 'virginica', 'versicolor', 'setosa', 'setosa',\n",
              "       'versicolor', 'setosa', 'setosa', 'virginica', 'setosa',\n",
              "       'virginica', 'setosa', 'versicolor', 'setosa', 'setosa', 'setosa',\n",
              "       'virginica', 'setosa', 'virginica', 'setosa', 'setosa',\n",
              "       'virginica', 'virginica', 'virginica', 'versicolor', 'virginica',\n",
              "       'versicolor', 'versicolor', 'virginica', 'versicolor', 'setosa',\n",
              "       'virginica', 'versicolor', 'versicolor', 'setosa', 'versicolor',\n",
              "       'virginica'], dtype=object)"
            ]
          },
          "metadata": {
            "tags": []
          },
          "execution_count": 12
        }
      ]
    }
  ]
}