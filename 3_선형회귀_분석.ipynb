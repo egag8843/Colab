{
  "nbformat": 4,
  "nbformat_minor": 0,
  "metadata": {
    "colab": {
      "name": "3_선형회귀 분석.ipynb",
      "provenance": [],
      "collapsed_sections": [],
      "authorship_tag": "ABX9TyM6q8Jp1jj8ZdKQMPmEX7kO",
      "include_colab_link": true
    },
    "kernelspec": {
      "name": "python3",
      "display_name": "Python 3"
    },
    "language_info": {
      "name": "python"
    }
  },
  "cells": [
    {
      "cell_type": "markdown",
      "metadata": {
        "id": "view-in-github",
        "colab_type": "text"
      },
      "source": [
        "<a href=\"https://colab.research.google.com/github/egag8843/Colab/blob/main/3_%EC%84%A0%ED%98%95%ED%9A%8C%EA%B7%80_%EB%B6%84%EC%84%9D.ipynb\" target=\"_parent\"><img src=\"https://colab.research.google.com/assets/colab-badge.svg\" alt=\"Open In Colab\"/></a>"
      ]
    },
    {
      "cell_type": "code",
      "metadata": {
        "id": "E5JSFy_teGtl"
      },
      "source": [
        "\"\"\"\n",
        "날짜 : 2021/07/07\n",
        "이름 : 장경준\n",
        "내용 : 선형회귀 분석 실습\n",
        "\"\"\"\n",
        "from scipy import stats\n",
        "from sklearn.linear_model import LinearRegression"
      ],
      "execution_count": null,
      "outputs": []
    },
    {
      "cell_type": "code",
      "metadata": {
        "colab": {
          "base_uri": "https://localhost:8080/"
        },
        "id": "HLh4WCQVesw_",
        "outputId": "d9b6d1b3-3deb-408e-c339-f7f5891794f5"
      },
      "source": [
        "x_data= [170, 155, 150, 175, 165]\n",
        "y_data = [65,50,45,70,55]\n",
        "\n",
        "#기울기, 절편 확인\n",
        "slope, intercept, r, p, std = stats.linregress(x_data,y_data)\n",
        "print(\"기울기 = \",slope)\n",
        "print(\"절편 = \", intercept)"
      ],
      "execution_count": null,
      "outputs": [
        {
          "output_type": "stream",
          "text": [
            "기울기 =  0.9767441860465116\n",
            "절편 =  -102.20930232558138\n"
          ],
          "name": "stdout"
        }
      ]
    },
    {
      "cell_type": "code",
      "metadata": {
        "id": "XwH41aN-fg29"
      },
      "source": [
        "#학습하기\n",
        "def model(x):\n",
        "  y = 0.9767441860465116 * x -102.20930232558138\n",
        "  return y\n",
        "   "
      ],
      "execution_count": 8,
      "outputs": []
    },
    {
      "cell_type": "code",
      "metadata": {
        "colab": {
          "base_uri": "https://localhost:8080/"
        },
        "id": "xf3EAaXSgE1T",
        "outputId": "7cc483b6-7c73-40ea-aeca-4eb4392568d8"
      },
      "source": [
        "#테스트하기\n",
        "test_data = [160,172,178,186,154]\n",
        "\n",
        "for i in test_data:\n",
        "  print(model(i), end=',')"
      ],
      "execution_count": 9,
      "outputs": [
        {
          "output_type": "stream",
          "text": [
            "54.06976744186048,65.79069767441862,71.6511627906977,79.46511627906978,48.209302325581405,"
          ],
          "name": "stdout"
        }
      ]
    },
    {
      "cell_type": "code",
      "metadata": {
        "id": "sPbzEul4hCvO"
      },
      "source": [
        "# 선형회귀 알고리즘을 이용한 머신러닝\n",
        "from sklearn.linear_model import LinearRegression"
      ],
      "execution_count": 10,
      "outputs": []
    },
    {
      "cell_type": "code",
      "metadata": {
        "id": "aU6YaxZbhQUA"
      },
      "source": [
        "train_data= [170, 155, 150, 175, 165]\n",
        "train_label = [65,50,45,70,55]\n",
        "\n",
        "#학습하기\n",
        "model = LinearRegression()\n",
        "model.fit()"
      ],
      "execution_count": null,
      "outputs": []
    }
  ]
}