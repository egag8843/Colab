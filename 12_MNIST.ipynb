{
  "nbformat": 4,
  "nbformat_minor": 0,
  "metadata": {
    "colab": {
      "name": "12_MNIST.ipynb",
      "provenance": [],
      "mount_file_id": "10BZLzVCL2pQ8-3FxbWNZX7lghtuB1OiF",
      "authorship_tag": "ABX9TyN9d60xQZCElOL+RTrEr2X8",
      "include_colab_link": true
    },
    "kernelspec": {
      "name": "python3",
      "display_name": "Python 3"
    },
    "language_info": {
      "name": "python"
    }
  },
  "cells": [
    {
      "cell_type": "markdown",
      "metadata": {
        "id": "view-in-github",
        "colab_type": "text"
      },
      "source": [
        "<a href=\"https://colab.research.google.com/github/egag8843/Colab/blob/main/12_MNIST.ipynb\" target=\"_parent\"><img src=\"https://colab.research.google.com/assets/colab-badge.svg\" alt=\"Open In Colab\"/></a>"
      ]
    },
    {
      "cell_type": "code",
      "metadata": {
        "id": "_SlsPPE-z7vL"
      },
      "source": [
        "\"\"\"\n",
        "날짜 : 2021/07/07\n",
        "이름 : 장경준\n",
        "내용 : MNIST 숫자 이미지 실습\n",
        "\"\"\"\n",
        "import pandas as pd\n",
        "import numpy as np\n",
        "import matplotlib.pyplot as plt\n",
        "from sklearn import svm, metrics\n",
        "from sklearn.model_selection import train_test_split\n",
        "from google.colab import drive"
      ],
      "execution_count": 2,
      "outputs": []
    },
    {
      "cell_type": "code",
      "metadata": {
        "id": "EAyNcRlq0Qpw"
      },
      "source": [
        "#데이터 불러오기\n",
        "df_mnist_train=pd.read_csv(\"/content/drive/MyDrive/Colab Notebooks/file/mnist_train.csv\",header=None)\n",
        "df_mnist_test=pd.read_csv(\"/content/drive/MyDrive/Colab Notebooks/file/mnist_test.csv\",header=None)\n",
        "\n",
        "df_mnist_train"
      ],
      "execution_count": null,
      "outputs": []
    },
    {
      "cell_type": "code",
      "metadata": {
        "colab": {
          "base_uri": "https://localhost:8080/",
          "height": 283
        },
        "id": "7uqUpqan0uY-",
        "outputId": "1659a4b8-a722-4f9b-f8ab-e318e3086fb7"
      },
      "source": [
        "#픽셀데이터 이미지 출력\n",
        "img_list = df_mnist_train.iloc[59999, 1:].tolist()\n",
        "img = np.reshape(img_list,[28,28])\n",
        "plt.imshow(img)\n",
        "plt.show"
      ],
      "execution_count": 11,
      "outputs": [
        {
          "output_type": "execute_result",
          "data": {
            "text/plain": [
              "<function matplotlib.pyplot.show>"
            ]
          },
          "metadata": {
            "tags": []
          },
          "execution_count": 11
        },
        {
          "output_type": "display_data",
          "data": {
            "image/png": "[encoded data removed]",
            "text/plain": [
              "<Figure size 432x288 with 1 Axes>"
            ]
          },
          "metadata": {
            "tags": [],
            "needs_background": "light"
          }
        }
      ]
    },
    {
      "cell_type": "code",
      "metadata": {
        "id": "bwOpzQvY5E-Q"
      },
      "source": [
        "#학습데이터 준비\n",
        "mnist_train_data = df_mnist_train.iloc[:,1:] / 255 \n",
        "mnist_train_label = df_mnist_train.iloc[:,0]\n",
        "\n",
        "mnist_test_data = df_mnist_train.iloc[:,1:] / 255 \n",
        "mnist_test_label = df_mnist_train.iloc[:,0]"
      ],
      "execution_count": 14,
      "outputs": []
    },
    {
      "cell_type": "code",
      "metadata": {
        "colab": {
          "base_uri": "https://localhost:8080/"
        },
        "id": "4s4Kgkp6589v",
        "outputId": "70e729ea-4a56-4038-cda9-72e30219d9ed"
      },
      "source": [
        "model = svm.SVC()\n",
        "model.fit(mnist_train_data, mnist_train_label)"
      ],
      "execution_count": 15,
      "outputs": [
        {
          "output_type": "execute_result",
          "data": {
            "text/plain": [
              "SVC(C=1.0, break_ties=False, cache_size=200, class_weight=None, coef0=0.0,\n",
              "    decision_function_shape='ovr', degree=3, gamma='scale', kernel='rbf',\n",
              "    max_iter=-1, probability=False, random_state=None, shrinking=True,\n",
              "    tol=0.001, verbose=False)"
            ]
          },
          "metadata": {
            "tags": []
          },
          "execution_count": 15
        }
      ]
    },
    {
      "cell_type": "code",
      "metadata": {
        "id": "lMM__BCK6N3m"
      },
      "source": [
        "rs=model.predict(mnist_test_data)\n",
        "\n",
        "score = metrics.accuracy_score(rs,mnist_test_label)"
      ],
      "execution_count": null,
      "outputs": []
    }
  ]
}