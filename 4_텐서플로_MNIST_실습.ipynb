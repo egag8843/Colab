{
  "nbformat": 4,
  "nbformat_minor": 0,
  "metadata": {
    "colab": {
      "name": "4_텐서플로 MNIST 실습.ipynb",
      "provenance": [],
      "collapsed_sections": [],
      "mount_file_id": "12Q5o4n9JHaGL4TvGxIjme4RRWoI1jo_d",
      "authorship_tag": "ABX9TyP0L9+nZVizY39rXmloCMdJ",
      "include_colab_link": true
    },
    "kernelspec": {
      "name": "python3",
      "display_name": "Python 3"
    },
    "language_info": {
      "name": "python"
    }
  },
  "cells": [
    {
      "cell_type": "markdown",
      "metadata": {
        "id": "view-in-github",
        "colab_type": "text"
      },
      "source": [
        "<a href=\"https://colab.research.google.com/github/egag8843/Colab/blob/main/4_%ED%85%90%EC%84%9C%ED%94%8C%EB%A1%9C_MNIST_%EC%8B%A4%EC%8A%B5.ipynb\" target=\"_parent\"><img src=\"https://colab.research.google.com/assets/colab-badge.svg\" alt=\"Open In Colab\"/></a>"
      ]
    },
    {
      "cell_type": "code",
      "metadata": {
        "colab": {
          "base_uri": "https://localhost:8080/",
          "height": 35
        },
        "id": "Q-6UfoyhigfB",
        "outputId": "84585d08-2c49-4379-e0d3-16927994cde7"
      },
      "source": [
        "\"\"\"\n",
        "날짜 : 2021/07/12\n",
        "이름 : 장경준\n",
        "내용 : 텐서플로 MNIST 실습\n",
        "\"\"\"\n",
        "\n",
        "import tensorflow as tf\n",
        "import numpy as np\n",
        "import pandas as pd\n",
        "import matplotlib.pyplot as plt\n",
        "from tensorflow.keras.datasets.mnist import load_data\n",
        "from tensorflow.keras.models import Sequential\n",
        "from tensorflow.keras.layers import Dense, Flatten\n",
        "from tensorflow.keras.optimizers import Adam\n",
        "from tensorflow.keras.losses import mse\n",
        "from tensorflow.keras.utils import to_categorical\n",
        "from sklearn.preprocessing import LabelEncoder\n",
        "from sklearn.model_selection import train_test_split\n",
        "from sklearn.metrics import accuracy_score\n",
        "\n",
        "from google.colab import drive\n",
        "from PIL import Image\n",
        "tf. __version__"
      ],
      "execution_count": 29,
      "outputs": [
        {
          "output_type": "execute_result",
          "data": {
            "application/vnd.google.colaboratory.intrinsic+json": {
              "type": "string"
            },
            "text/plain": [
              "'2.5.0'"
            ]
          },
          "metadata": {
            "tags": []
          },
          "execution_count": 29
        }
      ]
    },
    {
      "cell_type": "code",
      "metadata": {
        "id": "Cu0JIq1wjCLh"
      },
      "source": [
        "#학습데이터 불러오기\n",
        "(mnist_train_data, mnist_train_label),(mnist_test_data, mnist_test_label) = load_data()"
      ],
      "execution_count": 12,
      "outputs": []
    },
    {
      "cell_type": "code",
      "metadata": {
        "colab": {
          "base_uri": "https://localhost:8080/"
        },
        "id": "z1hPXh4Bjy-i",
        "outputId": "d522aa90-e0f0-487d-8cb6-1399f59dc57c"
      },
      "source": [
        "#데이터 확인\n",
        "print(mnist_train_data.shape, mnist_train_label.shape)\n",
        "print(mnist_test_data.shape, mnist_test_label.shape)\n"
      ],
      "execution_count": 14,
      "outputs": [
        {
          "output_type": "stream",
          "text": [
            "(60000, 28, 28) (60000,)\n",
            "(10000, 28, 28) (10000,)\n"
          ],
          "name": "stdout"
        }
      ]
    },
    {
      "cell_type": "code",
      "metadata": {
        "colab": {
          "base_uri": "https://localhost:8080/",
          "height": 258
        },
        "id": "V2cb4U43kSsL",
        "outputId": "8888ec70-30c9-40b0-db5d-a5a905990457"
      },
      "source": [
        "#샘플 이미지 출력\n",
        "random_idx = np.random.randint(60000, size=5)\n",
        "print(random_idx)\n",
        "\n",
        "plt.figure(figsize=(5,5))\n",
        "\n",
        "for i, idx in enumerate(random_idx):\n",
        "  plt.subplot(3,3,i+1)\n",
        "  label = mnist_train_label[idx]\n",
        "  plt.imshow(mnist_train_data[idx,:])\n",
        "  plt.title(\"number : %d\"% label)"
      ],
      "execution_count": 22,
      "outputs": [
        {
          "output_type": "stream",
          "text": [
            "[56279 52208 33186 38514 51860]\n"
          ],
          "name": "stdout"
        },
        {
          "output_type": "display_data",
          "data": {
            "image/png": "[encoded data removed]",
            "text/plain": [
              "<Figure size 360x360 with 5 Axes>"
            ]
          },
          "metadata": {
            "tags": [],
            "needs_background": "light"
          }
        }
      ]
    },
    {
      "cell_type": "code",
      "metadata": {
        "id": "dxJqFtvypXlj"
      },
      "source": [
        "#학습을 위한 데이터 전처리(정규화)\n",
        "mnist_train_data = mnist_train_data / 255\n",
        "mnist_test_data = mnist_test_data / 255\n",
        "\n",
        "#라벨 원핫코딩\n",
        "mnist_train_label = to_categorical(mnist_train_label)\n",
        "mnist_test_label = to_categorical(mnist_test_label)"
      ],
      "execution_count": 23,
      "outputs": []
    },
    {
      "cell_type": "code",
      "metadata": {
        "colab": {
          "base_uri": "https://localhost:8080/"
        },
        "id": "UEdOa6jGyydL",
        "outputId": "5c1462d9-d81e-4c8c-c964-b85128364043"
      },
      "source": [
        "#학습모델 설계\n",
        "model = Sequential()\n",
        "model.add(Flatten(input_shape=(28, 28)))\n",
        "model.add(Dense(units=64, activation='relu'))\n",
        "model.add(Dense(units=32, activation='relu'))\n",
        "model.add(Dense(units=10, activation='softmax'))\n",
        "\n",
        "model.summary()"
      ],
      "execution_count": 24,
      "outputs": [
        {
          "output_type": "stream",
          "text": [
            "Model: \"sequential\"\n",
            "_________________________________________________________________\n",
            "Layer (type)                 Output Shape              Param #   \n",
            "=================================================================\n",
            "flatten (Flatten)            (None, 784)               0         \n",
            "_________________________________________________________________\n",
            "dense (Dense)                (None, 64)                50240     \n",
            "_________________________________________________________________\n",
            "dense_1 (Dense)              (None, 32)                2080      \n",
            "_________________________________________________________________\n",
            "dense_2 (Dense)              (None, 10)                330       \n",
            "=================================================================\n",
            "Total params: 52,650\n",
            "Trainable params: 52,650\n",
            "Non-trainable params: 0\n",
            "_________________________________________________________________\n"
          ],
          "name": "stdout"
        }
      ]
    },
    {
      "cell_type": "code",
      "metadata": {
        "id": "9zBVH-VBy0RQ"
      },
      "source": [
        "#학습모델 설정\n",
        "model.compile(loss='categorical_crossentropy', optimizer='Adam', metrics=['acc'])"
      ],
      "execution_count": 25,
      "outputs": []
    },
    {
      "cell_type": "code",
      "metadata": {
        "colab": {
          "base_uri": "https://localhost:8080/"
        },
        "id": "CpH3-lzTy1rw",
        "outputId": "4a828d4e-a136-49dd-c438-6addf250eed4"
      },
      "source": [
        "#학습하기\n",
        "model.fit(mnist_train_data, mnist_train_label, epochs=10)"
      ],
      "execution_count": 26,
      "outputs": [
        {
          "output_type": "stream",
          "text": [
            "Epoch 1/10\n",
            "1875/1875 [==============================] - 4s 2ms/step - loss: 0.2919 - acc: 0.9159\n",
            "Epoch 2/10\n",
            "1875/1875 [==============================] - 3s 2ms/step - loss: 0.1340 - acc: 0.9605\n",
            "Epoch 3/10\n",
            "1875/1875 [==============================] - 3s 2ms/step - loss: 0.0991 - acc: 0.9703\n",
            "Epoch 4/10\n",
            "1875/1875 [==============================] - 3s 2ms/step - loss: 0.0781 - acc: 0.9766\n",
            "Epoch 5/10\n",
            "1875/1875 [==============================] - 3s 2ms/step - loss: 0.0653 - acc: 0.9792\n",
            "Epoch 6/10\n",
            "1875/1875 [==============================] - 3s 2ms/step - loss: 0.0541 - acc: 0.9826\n",
            "Epoch 7/10\n",
            "1875/1875 [==============================] - 3s 2ms/step - loss: 0.0473 - acc: 0.9847\n",
            "Epoch 8/10\n",
            "1875/1875 [==============================] - 3s 2ms/step - loss: 0.0384 - acc: 0.9875\n",
            "Epoch 9/10\n",
            "1875/1875 [==============================] - 3s 2ms/step - loss: 0.0362 - acc: 0.9880\n",
            "Epoch 10/10\n",
            "1875/1875 [==============================] - 3s 2ms/step - loss: 0.0313 - acc: 0.9893\n"
          ],
          "name": "stdout"
        },
        {
          "output_type": "execute_result",
          "data": {
            "text/plain": [
              "<tensorflow.python.keras.callbacks.History at 0x7f6350c05410>"
            ]
          },
          "metadata": {
            "tags": []
          },
          "execution_count": 26
        }
      ]
    },
    {
      "cell_type": "code",
      "metadata": {
        "colab": {
          "base_uri": "https://localhost:8080/"
        },
        "id": "SKrF8dd8y24f",
        "outputId": "f6112c04-4de5-49ec-f3e8-fe570effbfca"
      },
      "source": [
        "#평가하기\n",
        "model.evaluate(mnist_test_data, mnist_test_label)"
      ],
      "execution_count": 27,
      "outputs": [
        {
          "output_type": "stream",
          "text": [
            "313/313 [==============================] - 1s 1ms/step - loss: 0.1026 - acc: 0.9736\n"
          ],
          "name": "stdout"
        },
        {
          "output_type": "execute_result",
          "data": {
            "text/plain": [
              "[0.10259177535772324, 0.9735999703407288]"
            ]
          },
          "metadata": {
            "tags": []
          },
          "execution_count": 27
        }
      ]
    },
    {
      "cell_type": "code",
      "metadata": {
        "colab": {
          "base_uri": "https://localhost:8080/"
        },
        "id": "bbAa4Y99zQwg",
        "outputId": "27b20b47-3b34-4d84-f45f-e008bcb69969"
      },
      "source": [
        "#테스트하기\n",
        "result = model.predict(mnist_test_data)\n",
        "score = accuracy_score(result.round(), mnist_test_label)\n",
        "print('score :', score)\n",
        "\n",
        "for i in range(10):\n",
        "  print('------------------------------------------')\n",
        "  print('결과 :', result[i].round())\n",
        "  print('정답 :', mnist_test_label[i])"
      ],
      "execution_count": 30,
      "outputs": [
        {
          "output_type": "stream",
          "text": [
            "score : 0.9722\n",
            "------------------------------------------\n",
            "결과 : [0. 0. 0. 0. 0. 0. 0. 1. 0. 0.]\n",
            "정답 : [0. 0. 0. 0. 0. 0. 0. 1. 0. 0.]\n",
            "------------------------------------------\n",
            "결과 : [0. 0. 1. 0. 0. 0. 0. 0. 0. 0.]\n",
            "정답 : [0. 0. 1. 0. 0. 0. 0. 0. 0. 0.]\n",
            "------------------------------------------\n",
            "결과 : [0. 1. 0. 0. 0. 0. 0. 0. 0. 0.]\n",
            "정답 : [0. 1. 0. 0. 0. 0. 0. 0. 0. 0.]\n",
            "------------------------------------------\n",
            "결과 : [1. 0. 0. 0. 0. 0. 0. 0. 0. 0.]\n",
            "정답 : [1. 0. 0. 0. 0. 0. 0. 0. 0. 0.]\n",
            "------------------------------------------\n",
            "결과 : [0. 0. 0. 0. 1. 0. 0. 0. 0. 0.]\n",
            "정답 : [0. 0. 0. 0. 1. 0. 0. 0. 0. 0.]\n",
            "------------------------------------------\n",
            "결과 : [0. 1. 0. 0. 0. 0. 0. 0. 0. 0.]\n",
            "정답 : [0. 1. 0. 0. 0. 0. 0. 0. 0. 0.]\n",
            "------------------------------------------\n",
            "결과 : [0. 0. 0. 0. 1. 0. 0. 0. 0. 0.]\n",
            "정답 : [0. 0. 0. 0. 1. 0. 0. 0. 0. 0.]\n",
            "------------------------------------------\n",
            "결과 : [0. 0. 0. 0. 0. 0. 0. 0. 0. 1.]\n",
            "정답 : [0. 0. 0. 0. 0. 0. 0. 0. 0. 1.]\n",
            "------------------------------------------\n",
            "결과 : [0. 0. 0. 0. 0. 1. 0. 0. 0. 0.]\n",
            "정답 : [0. 0. 0. 0. 0. 1. 0. 0. 0. 0.]\n",
            "------------------------------------------\n",
            "결과 : [0. 0. 0. 0. 0. 0. 0. 0. 0. 1.]\n",
            "정답 : [0. 0. 0. 0. 0. 0. 0. 0. 0. 1.]\n"
          ],
          "name": "stdout"
        }
      ]
    },
    {
      "cell_type": "code",
      "metadata": {
        "colab": {
          "base_uri": "https://localhost:8080/",
          "height": 283
        },
        "id": "4oNnmRe8zSRx",
        "outputId": "1231cf32-0a51-424f-b7f6-39b1f45ea7db"
      },
      "source": [
        "#이미지 출력\n",
        "plt.imshow(mnist_test_data[9].reshape(28, 28))"
      ],
      "execution_count": 32,
      "outputs": [
        {
          "output_type": "execute_result",
          "data": {
            "text/plain": [
              "<matplotlib.image.AxesImage at 0x7f6350d33bd0>"
            ]
          },
          "metadata": {
            "tags": []
          },
          "execution_count": 32
        },
        {
          "output_type": "display_data",
          "data": {
            "image/png": "[encoded data removed]",
            "text/plain": [
              "<Figure size 432x288 with 1 Axes>"
            ]
          },
          "metadata": {
            "tags": [],
            "needs_background": "light"
          }
        }
      ]
    },
    {
      "cell_type": "code",
      "metadata": {
        "id": "Tr9keyJ12u4h"
      },
      "source": [
        "#새로운 이미지 불러오기\n",
        "img_num1 = Image.open('/content/drive/MyDrive/Colab Notebooks/file/mnist_num1.jpg')\n",
        "img_num2 = Image.open('/content/drive/MyDrive/Colab Notebooks/file/mnist_num2.jpg')\n",
        "img_num3 = Image.open('/content/drive/MyDrive/Colab Notebooks/file/mnist_num3.jpg')\n",
        "img_num4 = Image.open('/content/drive/MyDrive/Colab Notebooks/file/mnist_num4.jpg')\n",
        "img_num5 = Image.open('/content/drive/MyDrive/Colab Notebooks/file/mnist_num5.jpg')"
      ],
      "execution_count": 36,
      "outputs": []
    },
    {
      "cell_type": "code",
      "metadata": {
        "id": "NTZDFJgf3Ebw"
      },
      "source": [
        "#이미지 파일 픽셀 데이터 변환\n",
        "pix_img1 = np.array(img_num1)\n",
        "pix_img2 = np.array(img_num2)\n",
        "pix_img3 = np.array(img_num3)\n",
        "pix_img4 = np.array(img_num4)\n",
        "pix_img5 = np.array(img_num5)"
      ],
      "execution_count": 38,
      "outputs": []
    },
    {
      "cell_type": "code",
      "metadata": {
        "colab": {
          "base_uri": "https://localhost:8080/"
        },
        "id": "xaPlf_U83bMx",
        "outputId": "947bdb0f-8a04-43e6-de04-c3026ba6470d"
      },
      "source": [
        "img_arr = np.array([pix_img1,pix_img2,pix_img3,pix_img4,pix_img5])\n",
        "img_arr = img_arr / 255\n",
        "img_arr\n",
        "\n",
        "result = model.predict(img_arr)\n",
        "print(result.round())"
      ],
      "execution_count": 41,
      "outputs": [
        {
          "output_type": "stream",
          "text": [
            "[[0. 1. 0. 0. 0. 0. 0. 0. 0. 0.]\n",
            " [0. 0. 1. 0. 0. 0. 0. 0. 0. 0.]\n",
            " [0. 0. 0. 1. 0. 0. 0. 0. 0. 0.]\n",
            " [0. 0. 0. 0. 1. 0. 0. 0. 0. 0.]\n",
            " [0. 0. 0. 0. 0. 1. 0. 0. 0. 0.]]\n"
          ],
          "name": "stdout"
        }
      ]
    }
  ]
}