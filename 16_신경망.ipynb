{
  "nbformat": 4,
  "nbformat_minor": 0,
  "metadata": {
    "colab": {
      "name": "16_신경망.ipynb",
      "provenance": [],
      "authorship_tag": "ABX9TyNVdlPZD5lQeks+M9c1i08e",
      "include_colab_link": true
    },
    "kernelspec": {
      "name": "python3",
      "display_name": "Python 3"
    },
    "language_info": {
      "name": "python"
    }
  },
  "cells": [
    {
      "cell_type": "markdown",
      "metadata": {
        "id": "view-in-github",
        "colab_type": "text"
      },
      "source": [
        "<a href=\"https://colab.research.google.com/github/egag8843/Colab/blob/main/16_%EC%8B%A0%EA%B2%BD%EB%A7%9D.ipynb\" target=\"_parent\"><img src=\"https://colab.research.google.com/assets/colab-badge.svg\" alt=\"Open In Colab\"/></a>"
      ]
    },
    {
      "cell_type": "code",
      "metadata": {
        "id": "Gm3c2cUqCltd"
      },
      "source": [
        "\"\"\"\n",
        "날짜 : 2021/07/09\n",
        "이름 : 장경준\n",
        "내용 : 파이썬 신경망 실습\n",
        "\"\"\"\n",
        "import numpy as np\n",
        "from scipy.special import expit as sigmoid"
      ],
      "execution_count": 3,
      "outputs": []
    },
    {
      "cell_type": "code",
      "metadata": {
        "id": "o0T-sOX8DEvp"
      },
      "source": [
        "#신경망 클래스 정의\n",
        "class NeuralNetwork:\n",
        "  def __init__(self, input_nodes, hidden_nodes, output_nodes, learning_rate):\n",
        "    #멤버변수 선언\n",
        "    self.inodes = input_nodes\n",
        "    self.hnodes = hidden_nodes\n",
        "    self.onodes = output_nodes\n",
        "\n",
        "    #가중치 설정\n",
        "    self.wih = np.random.rand(self.hnodes, self.inodes)\n",
        "    self.who = np.random.rand(self.onodes, self.hnodes)\n",
        "\n",
        "    #학습률 설정\n",
        "    self.learning_rate = learning_rate\n",
        "\n",
        "    #활성화 함수\n",
        "    self.activation_function = lambda x: sigmoid(x)\n",
        "\n",
        "  def fit(self, input_list, target_list):\n",
        "    #1.입력데이터를 2차원 행렬로 변환\n",
        "    inputs = np.array(input_list, ndmin=2).T\n",
        "    target = np.array(target_list, ndmin=2).T\n",
        "\n",
        "    #2.은닉계층으로 들어오는 데이터 계산\n",
        "    hidden_inputs = np.dot(self.wih, inputs)\n",
        "\n",
        "    #3.은닉계층에서 나가는 데이터 계산\n",
        "    hidden_outputs = self.activation_function(hidden_inputs)\n",
        "\n",
        "    #4.출력계층으로 들어오는 데이터 계산\n",
        "    final_inputs = np.dot(self.who, hidden_outputs)\n",
        "\n",
        "    #5.출력계층에서 나가는 데이터 계산\n",
        "    final_outputs = self.activation_function(final_inputs)\n",
        "\n",
        "    #6.출력 계층의 오차 구하기\n",
        "    output_error = target - final_outputs\n",
        "\n",
        "    #7.은닉 계층의 오차 구하기\n",
        "    hidden_error = np.dot(self.who.T, output_error)\n",
        "\n",
        "    #8.은닉 계층과 출력 계층간의 가중치 업데이트\n",
        "    self.who += self.learning_rate * np.dot((output_error * final_outputs * (1.0 - final_outputs)), np.transpose(hidden_outputs))\n",
        "\n",
        "    #9.입력 계층과 은닉 계층간의 가중치 업데이트\n",
        "    self.wih += self.learning_rate * np.dot((hidden_error * hidden_outputs * (1.0 - hidden_outputs)), np.transpose(inputs))\n",
        "\n",
        "  def predict(self, input_list):\n",
        "    #1.입력 데이터를 2차원 행렬로 변환\n",
        "    inputs = np.array(input_list, ndmin=2).T\n",
        "\n",
        "    #2.은닉계층으로 들어오는 데이터 계산\n",
        "    hidden_inputs = np.dot(self.wih, inputs)\n",
        "\n",
        "    #3.은닉계층에서 나가는 데이터 계산\n",
        "    hidden_outputs = self.activation_function(hidden_inputs)\n",
        "\n",
        "    #4.출력계층으로 들어오는 데이터 계산\n",
        "    final_inputs = np.dot(self.who, hidden_outputs)\n",
        "\n",
        "    #5.출력계층으로 나가는 데이터 계산\n",
        "    final_outputs = self.activation_function(final_inputs)\n",
        "\n",
        "    #6.최종값 리턴\n",
        "    return final_outputs\n"
      ],
      "execution_count": 4,
      "outputs": []
    },
    {
      "cell_type": "code",
      "metadata": {
        "id": "ld0lec-3IFlN"
      },
      "source": [
        "#입력, 은닉, 출력노드 갯수 설정\n",
        "INPUT_NODES = 2\n",
        "OUTPUT_NODES = 2\n",
        "HIDDEN_NODES = 2\n",
        "\n",
        "learning_rate = 0.01\n",
        "\n",
        "epochs = 50000\n",
        "nn = NeuralNetwork(INPUT_NODES, HIDDEN_NODES, OUTPUT_NODES, learning_rate)\n",
        "\n",
        "\n"
      ],
      "execution_count": 5,
      "outputs": []
    },
    {
      "cell_type": "code",
      "metadata": {
        "id": "gMYKYvbqJHtY"
      },
      "source": [
        "#학습하기\n",
        "for i in range(epochs):\n",
        "  nn.fit([0,0],[0])\n",
        "  nn.fit([0,1],[1])\n",
        "  nn.fit([1,0],[1])\n",
        "  nn.fit([1,1],[0])\n",
        "  print('epochs : ', i)"
      ],
      "execution_count": null,
      "outputs": []
    },
    {
      "cell_type": "code",
      "metadata": {
        "colab": {
          "base_uri": "https://localhost:8080/"
        },
        "id": "jGMRcEngJeYB",
        "outputId": "0fcf2c38-8c1b-4e24-d928-0bf46d444e4a"
      },
      "source": [
        "#테스트하기\n",
        "print('XOR 결과 ')\n",
        "print('0,0 :',nn.predict([0,0]))\n",
        "print('0,1 :',nn.predict([0,1]))\n",
        "print('1,0 :',nn.predict([1,0]))\n",
        "print('1,1 :',nn.predict([1,1]))"
      ],
      "execution_count": 8,
      "outputs": [
        {
          "output_type": "stream",
          "text": [
            "XOR 결과 \n",
            "0,0 : [[0.4437242 ]\n",
            " [0.44653651]]\n",
            "0,1 : [[0.89853834]\n",
            " [0.87650793]]\n",
            "1,0 : [[0.38778002]\n",
            " [0.39331643]]\n",
            "1,1 : [[0.39952184]\n",
            " [0.4039996 ]]\n"
          ],
          "name": "stdout"
        }
      ]
    }
  ]
}