{
  "nbformat": 4,
  "nbformat_minor": 0,
  "metadata": {
    "colab": {
      "name": "7_경사하강법.ipynb",
      "provenance": [],
      "collapsed_sections": [],
      "authorship_tag": "ABX9TyM1cn6JjnrhPH89sz94teu9",
      "include_colab_link": true
    },
    "kernelspec": {
      "name": "python3",
      "display_name": "Python 3"
    },
    "language_info": {
      "name": "python"
    }
  },
  "cells": [
    {
      "cell_type": "markdown",
      "metadata": {
        "id": "view-in-github",
        "colab_type": "text"
      },
      "source": [
        "<a href=\"https://colab.research.google.com/github/egag8843/Colab/blob/main/7_%EA%B2%BD%EC%82%AC%ED%95%98%EA%B0%95%EB%B2%95.ipynb\" target=\"_parent\"><img src=\"https://colab.research.google.com/assets/colab-badge.svg\" alt=\"Open In Colab\"/></a>"
      ]
    },
    {
      "cell_type": "code",
      "metadata": {
        "id": "7QLz8LXCvPQj"
      },
      "source": [
        "\"\"\"\n",
        "날짜: 2021/07/06\n",
        "이름: 장경준\n",
        "내용: 머신러닝 경사하강법 실습하기\n",
        "\"\"\"\n",
        "\n",
        "from sklearn import svm"
      ],
      "execution_count": 1,
      "outputs": []
    },
    {
      "cell_type": "code",
      "metadata": {
        "id": "W6Q6ba9Qx6zQ"
      },
      "source": [
        "x_data = [170,155,160,175,165]\n",
        "y_data = [65,50, 45,70,55]\n",
        "\n",
        "a = 0 # 기울기\n",
        "b = 0 # 절편\n",
        "eta = 0.0000075 # 하강률: 너무 크면 발산할 수 있으니 적당히!\n"
      ],
      "execution_count": 2,
      "outputs": []
    },
    {
      "cell_type": "code",
      "metadata": {
        "colab": {
          "base_uri": "https://localhost:8080/",
          "height": 136
        },
        "id": "NqbWbfy-yYj-",
        "outputId": "df23e4f8-924e-48fa-bca8-3310bdfb2fc0"
      },
      "source": [
        "while True:\n",
        "\n",
        "  new_a = a - eta * (x_data[0] * 2 *(a * x_data[0] + b - y_data[0] +\n",
        "                    x_data[1] * 2 *(a * x_data[1] + b - y_data[1] +\n",
        "                    x_data[2] * 2 *(a * x_data[2] + b - y_data[2] +\n",
        "                    x_data[3] * 2 *(a * x_data[3] + b - y_data[3] +\n",
        "                    x_data[4] * 2 *(a * x_data[4] + b - y_data[4]))\n",
        "\n",
        "  new_b = b - eta * (2 * b + 2 *(x_data[0] * a - y_data[0]+\n",
        "                                 x_data[1] * a - y_data[1]+\n",
        "                                 x_data[2] * a - y_data[2]+\n",
        "                                 x_data[3] * a - y_data[3]+\n",
        "                                 x_data[4] * a - y_data[4]))\n",
        "  if a == new_a:\n",
        "    break\n",
        "  a = new_a\n",
        "\n",
        "  b = new_b\n",
        "  print(\"a: %.12f, b: %.12f\" %(a,b))\n",
        "\n",
        "print(\"a 값(기울기) : \",a)\n",
        "print(\"b 값(절편) : \",b)"
      ],
      "execution_count": 18,
      "outputs": [
        {
          "output_type": "error",
          "ename": "SyntaxError",
          "evalue": "ignored",
          "traceback": [
            "\u001b[0;36m  File \u001b[0;32m\"<ipython-input-18-cd484a2d6417>\"\u001b[0;36m, line \u001b[0;32m9\u001b[0m\n\u001b[0;31m    new_b = b - eta * (2 * b + 2 *(x_data[0] * a - y_data[0]+\u001b[0m\n\u001b[0m        ^\u001b[0m\n\u001b[0;31mSyntaxError\u001b[0m\u001b[0;31m:\u001b[0m invalid syntax\n"
          ]
        }
      ]
    }
  ]
}