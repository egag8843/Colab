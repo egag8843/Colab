{
  "nbformat": 4,
  "nbformat_minor": 0,
  "metadata": {
    "colab": {
      "name": "15_퍼셉트론 실습.ipynb",
      "provenance": [],
      "collapsed_sections": [],
      "authorship_tag": "ABX9TyPX21b+aWkZsuLyLGWeY2gH",
      "include_colab_link": true
    },
    "kernelspec": {
      "name": "python3",
      "display_name": "Python 3"
    },
    "language_info": {
      "name": "python"
    }
  },
  "cells": [
    {
      "cell_type": "markdown",
      "metadata": {
        "id": "view-in-github",
        "colab_type": "text"
      },
      "source": [
        "<a href=\"https://colab.research.google.com/github/egag8843/Colab/blob/main/15_%ED%8D%BC%EC%85%89%ED%8A%B8%EB%A1%A0_%EC%8B%A4%EC%8A%B5.ipynb\" target=\"_parent\"><img src=\"https://colab.research.google.com/assets/colab-badge.svg\" alt=\"Open In Colab\"/></a>"
      ]
    },
    {
      "cell_type": "code",
      "metadata": {
        "id": "9iEIEzbK8Tyr"
      },
      "source": [
        "\"\"\"\n",
        "날짜 : 2021/07/09\n",
        "이름 : 장경준\n",
        "내용 : 퍼셉트론 실습\n",
        "\"\"\"\n",
        "import numpy as np\n"
      ],
      "execution_count": null,
      "outputs": []
    },
    {
      "cell_type": "code",
      "metadata": {
        "id": "_1mb_3ls896p"
      },
      "source": [
        "#AND연산 퍼셉트론 함수\n",
        "def AND(x1, x2):\n",
        "  x = np.array([x1, x2])\n",
        "  w = np.array([0.5, 0.5])\n",
        "  b = -0.7\n",
        "\n",
        "  y = np.sum(x * w) + b\n",
        "\n",
        "  if y <= 0:\n",
        "    return 0\n",
        "  else:\n",
        "    return 1\n",
        "\n",
        "\n",
        "#NAND연산 퍼셉트론 함수\n",
        "def NAND(x1, x2):\n",
        "  x = np.array([x1, x2])\n",
        "  w = np.array([-0.5, -0.5])\n",
        "  b = 0.7\n",
        "\n",
        "  y = np.sum(x * w) + b\n",
        "\n",
        "  if y <= 0:\n",
        "    return 0\n",
        "  else:\n",
        "    return 1\n",
        "\n",
        "#OR연산 퍼셉트론 함수\n",
        "def OR(x1, x2):\n",
        "  x = np.array([x1, x2])\n",
        "  w = np.array([2, 2])\n",
        "  b = -1\n",
        "\n",
        "  y = np.sum(x * w) + b\n",
        "\n",
        "  if y <= 0:\n",
        "    return 0\n",
        "  else:\n",
        "    return 1"
      ],
      "execution_count": 11,
      "outputs": []
    },
    {
      "cell_type": "code",
      "metadata": {
        "colab": {
          "base_uri": "https://localhost:8080/"
        },
        "id": "Odm166yf-IbK",
        "outputId": "0216a0ed-7b0d-486c-aa2d-b9e7da65b75d"
      },
      "source": [
        "#검증\n",
        "print('AND')\n",
        "print('0,0 : ', AND(0,0))\n",
        "print('0,1 : ', AND(0,1))\n",
        "print('1,0 : ', AND(1,0))\n",
        "print('1,1 : ', AND(1,1))\n",
        "\n",
        "print('NAND')\n",
        "print('0,0 : ', NAND(0,0))\n",
        "print('0,1 : ', NAND(0,1))\n",
        "print('1,0 : ', NAND(1,0))\n",
        "print('1,1 : ', NAND(1,1))\n",
        "\n",
        "print('OR')\n",
        "print('0,0 : ', OR(0,0))\n",
        "print('0,1 : ', OR(0,1))\n",
        "print('1,0 : ', OR(1,0))\n",
        "print('1,1 : ', OR(1,1))"
      ],
      "execution_count": 12,
      "outputs": [
        {
          "output_type": "stream",
          "text": [
            "AND\n",
            "0,0 :  0\n",
            "0,1 :  0\n",
            "1,0 :  0\n",
            "1,1 :  1\n",
            "NAND\n",
            "0,0 :  1\n",
            "0,1 :  1\n",
            "1,0 :  1\n",
            "1,1 :  0\n",
            "OR\n",
            "0,0 :  0\n",
            "0,1 :  1\n",
            "1,0 :  1\n",
            "1,1 :  1\n"
          ],
          "name": "stdout"
        }
      ]
    },
    {
      "cell_type": "code",
      "metadata": {
        "id": "O6ZA1lQw-emJ"
      },
      "source": [
        "# XOR 퍼셉트론\n",
        "\n",
        "def XOR(x1, x2):\n",
        "  z1 = NAND(x1,x2)\n",
        "  z2 = OR(x1,x2)\n",
        "  y = XOR(z1,z2)\n",
        "\n",
        "  return y"
      ],
      "execution_count": 13,
      "outputs": []
    },
    {
      "cell_type": "code",
      "metadata": {
        "id": "3r9aZEgjLWk-"
      },
      "source": [
        ""
      ],
      "execution_count": null,
      "outputs": []
    }
  ]
}