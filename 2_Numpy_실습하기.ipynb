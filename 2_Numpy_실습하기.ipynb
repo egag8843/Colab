{
  "nbformat": 4,
  "nbformat_minor": 0,
  "metadata": {
    "colab": {
      "name": "2_Numpy 실습하기.ipynb",
      "provenance": [],
      "collapsed_sections": [],
      "authorship_tag": "ABX9TyOk7hvDWMZpe0q8DRtVbrYM",
      "include_colab_link": true
    },
    "kernelspec": {
      "name": "python3",
      "display_name": "Python 3"
    },
    "language_info": {
      "name": "python"
    }
  },
  "cells": [
    {
      "cell_type": "markdown",
      "metadata": {
        "id": "view-in-github",
        "colab_type": "text"
      },
      "source": [
        "<a href=\"https://colab.research.google.com/github/egag8843/Colab_New/blob/main/2_Numpy_%EC%8B%A4%EC%8A%B5%ED%95%98%EA%B8%B0.ipynb\" target=\"_parent\"><img src=\"https://colab.research.google.com/assets/colab-badge.svg\" alt=\"Open In Colab\"/></a>"
      ]
    },
    {
      "cell_type": "code",
      "metadata": {
        "id": "SMABz0hANIpD"
      },
      "source": [
        "\"\"\"\n",
        "날짜 : 2021/07/05\n",
        "이름 : 장경준\n",
        "내용 : 파이썬 Numpy 패키지 실습하기\n",
        "\"\"\"\n",
        "import numpy  as  np\n"
      ],
      "execution_count": null,
      "outputs": []
    },
    {
      "cell_type": "code",
      "metadata": {
        "colab": {
          "base_uri": "https://localhost:8080/"
        },
        "id": "pZyuD_jeOILH",
        "outputId": "a4167313-cb81-450a-a33b-88e0cec167f6"
      },
      "source": [
        "# Numpy 자료구조 - 벡터\n",
        "v1 = np.array([1,2,3,4,5])\n",
        "print('v1 = ',v1)\n",
        "\n",
        "v2 = np.arange(5)\n",
        "print('v2 = ', v2)\n",
        "\n",
        "v3 = np.arange(10)\n",
        "print('v3 = ',v3)"
      ],
      "execution_count": null,
      "outputs": [
        {
          "output_type": "stream",
          "text": [
            "v1 =  [1 2 3 4 5]\n",
            "v2 =  [0 1 2 3 4]\n",
            "v3 =  [0 1 2 3 4 5 6 7 8 9]\n"
          ],
          "name": "stdout"
        }
      ]
    },
    {
      "cell_type": "code",
      "metadata": {
        "id": "5pXiaqW1OSkZ"
      },
      "source": [
        "# 0~1 사이의 임의의ㅡ 실수\n",
        "rand1 = np.random.rand(100)\n",
        "print(rand1)\n",
        "# 표준 정규분포를 따르는 실수 100개\n",
        "rand2 = np.random.randn(100)\n",
        "print(rand2)\n",
        "# 0~9 사이의 임의의 정수\n",
        "rand3 = np.random.randint(10)\n",
        "print(rand3)"
      ],
      "execution_count": null,
      "outputs": []
    },
    {
      "cell_type": "code",
      "metadata": {
        "id": "L8EcPhlxOZoP"
      },
      "source": [
        "#Numpy 자료구조 - 행렬\n",
        "m1 = np.array([[1,2],[3,4]])\n",
        "print(m1)\n",
        "\n",
        "m2 = np.array([[1,2,3],[4,5,6],[7,8,9]])\n",
        "print(m2)\n",
        "\n",
        "m3 = np.ones([2,4])\n",
        "print(m3)\n",
        "\n",
        "m4 = np.zeros([3,2])\n",
        "print(m4)"
      ],
      "execution_count": null,
      "outputs": []
    },
    {
      "cell_type": "code",
      "metadata": {
        "id": "JYMVE65kOctA"
      },
      "source": [
        "# 전치행렬\n",
        "print(m1.T)\n",
        "\n",
        "print(m2.transpose())"
      ],
      "execution_count": null,
      "outputs": []
    },
    {
      "cell_type": "code",
      "metadata": {
        "id": "bbTCNyWpOenn"
      },
      "source": [
        "# 단위행렬\n",
        "e1 = np.identity(2)\n",
        "print(e1)\n",
        "\n",
        "e2 = np.identity(3)\n",
        "print(e2)"
      ],
      "execution_count": null,
      "outputs": []
    },
    {
      "cell_type": "code",
      "metadata": {
        "id": "fcqdjod_SD1Q"
      },
      "source": [
        "#역행렬\n",
        "im1 = np.linalg.inv(m1)\n",
        "print(im1)\n"
      ],
      "execution_count": null,
      "outputs": []
    },
    {
      "cell_type": "code",
      "metadata": {
        "colab": {
          "base_uri": "https://localhost:8080/"
        },
        "id": "F8MSAVWUS1fg",
        "outputId": "acb01239-03e0-4252-f35f-20bc7babaebb"
      },
      "source": [
        "#행렬 인덱싱\n",
        "matrix = np.array([[1,2,3,4],[5,6,7,8],[9,10,11,12]])\n",
        "print(matrix)\n",
        "\n",
        "print(matrix[0,0])\n",
        "print(matrix[0,:])\n",
        "print(matrix[:,0])\n",
        "\n",
        "print(matrix[0:2,0:2])\n",
        "print(matrix[:,0:2])\n",
        "print(matrix[:,2:4])\n",
        "print(matrix[1:3,1:3])"
      ],
      "execution_count": null,
      "outputs": [
        {
          "output_type": "stream",
          "text": [
            "[[ 1  2  3  4]\n",
            " [ 5  6  7  8]\n",
            " [ 9 10 11 12]]\n",
            "1\n",
            "[1 2 3 4]\n",
            "[1 5 9]\n",
            "[[1 2]\n",
            " [5 6]]\n",
            "[[ 1  2]\n",
            " [ 5  6]\n",
            " [ 9 10]]\n",
            "[[ 3  4]\n",
            " [ 7  8]\n",
            " [11 12]]\n",
            "[[ 6  7]\n",
            " [10 11]]\n"
          ],
          "name": "stdout"
        }
      ]
    }
  ]
}