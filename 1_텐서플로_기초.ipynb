{
  "nbformat": 4,
  "nbformat_minor": 0,
  "metadata": {
    "colab": {
      "name": "1_텐서플로 기초.ipynb",
      "provenance": [],
      "collapsed_sections": [],
      "authorship_tag": "ABX9TyPe3Ow5pjtz6xV9BDeEDwDR",
      "include_colab_link": true
    },
    "kernelspec": {
      "name": "python3",
      "display_name": "Python 3"
    },
    "language_info": {
      "name": "python"
    },
    "accelerator": "GPU"
  },
  "cells": [
    {
      "cell_type": "markdown",
      "metadata": {
        "id": "view-in-github",
        "colab_type": "text"
      },
      "source": [
        "<a href=\"https://colab.research.google.com/github/egag8843/Colab/blob/main/1_%ED%85%90%EC%84%9C%ED%94%8C%EB%A1%9C_%EA%B8%B0%EC%B4%88.ipynb\" target=\"_parent\"><img src=\"https://colab.research.google.com/assets/colab-badge.svg\" alt=\"Open In Colab\"/></a>"
      ]
    },
    {
      "cell_type": "code",
      "metadata": {
        "colab": {
          "base_uri": "https://localhost:8080/",
          "height": 35
        },
        "id": "yQeDADtWS2b-",
        "outputId": "c5042fd6-8cf9-40b5-f1ee-20ba0aa520ef"
      },
      "source": [
        "\"\"\"\n",
        "날짜 : 2021/07/12\n",
        "이름 : 장경준\n",
        "내용 : 텐서플로 기초 실습\n",
        "\"\"\"\n",
        "\n",
        "import tensorflow as tf\n",
        "tf. __version__"
      ],
      "execution_count": 2,
      "outputs": [
        {
          "output_type": "execute_result",
          "data": {
            "application/vnd.google.colaboratory.intrinsic+json": {
              "type": "string"
            },
            "text/plain": [
              "'2.5.0'"
            ]
          },
          "metadata": {
            "tags": []
          },
          "execution_count": 2
        }
      ]
    },
    {
      "cell_type": "code",
      "metadata": {
        "colab": {
          "base_uri": "https://localhost:8080/"
        },
        "id": "WCZrfm45TlI0",
        "outputId": "d6790d0f-3749-4850-a292-d69a3a740c24"
      },
      "source": [
        "#텐서플로 상수\n",
        "\n",
        "var1 = tf.constant(\"Hello Tensorflow\")\n",
        "var2 = tf.constant([100,100])\n",
        "print(var1)\n",
        "print(var2)"
      ],
      "execution_count": 3,
      "outputs": [
        {
          "output_type": "stream",
          "text": [
            "tf.Tensor(b'Hello Tensorflow', shape=(), dtype=string)\n",
            "tf.Tensor([100 100], shape=(2,), dtype=int32)\n"
          ],
          "name": "stdout"
        }
      ]
    }
  ]
}