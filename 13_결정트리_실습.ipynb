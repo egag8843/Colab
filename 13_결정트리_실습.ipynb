{
  "nbformat": 4,
  "nbformat_minor": 0,
  "metadata": {
    "colab": {
      "name": "13_결정트리 실습.ipynb",
      "provenance": [],
      "collapsed_sections": [],
      "mount_file_id": "11L04zFLXS8uJLX3cXjB9RSv1XwOChM22",
      "authorship_tag": "ABX9TyPG6YaJpqXBnaPzSZomtqoW",
      "include_colab_link": true
    },
    "kernelspec": {
      "name": "python3",
      "display_name": "Python 3"
    },
    "language_info": {
      "name": "python"
    }
  },
  "cells": [
    {
      "cell_type": "markdown",
      "metadata": {
        "id": "view-in-github",
        "colab_type": "text"
      },
      "source": [
        "<a href=\"https://colab.research.google.com/github/egag8843/Colab/blob/main/13_%EA%B2%B0%EC%A0%95%ED%8A%B8%EB%A6%AC_%EC%8B%A4%EC%8A%B5.ipynb\" target=\"_parent\"><img src=\"https://colab.research.google.com/assets/colab-badge.svg\" alt=\"Open In Colab\"/></a>"
      ]
    },
    {
      "cell_type": "code",
      "metadata": {
        "id": "1RRkRa6dtWOC"
      },
      "source": [
        "\"\"\"\n",
        "날짜 : 2021/07/09\n",
        "이름 : 장경준\n",
        "내용 : 결정트리 실습\n",
        "\"\"\"\n",
        "from sklearn import tree\n",
        "import pydotplus\n",
        "from google.colab import drive"
      ],
      "execution_count": 8,
      "outputs": []
    },
    {
      "cell_type": "code",
      "metadata": {
        "id": "r_rU2z9utp22"
      },
      "source": [
        "# 데이터 준비\n",
        "train_data = [[180,70],[167,52],[159,62],[174,65],[172,58],\n",
        "              [162,55],[177,62],[188,72],[175,60],[156,52]]\n",
        "train_label = [1,2,2,1,2,2,1,1,2,2]"
      ],
      "execution_count": 5,
      "outputs": []
    },
    {
      "cell_type": "code",
      "metadata": {
        "colab": {
          "base_uri": "https://localhost:8080/"
        },
        "id": "0SJW2LfnuUVU",
        "outputId": "2bfcd2ce-12e7-4ca3-d494-9821aa6624f0"
      },
      "source": [
        "#학습하기\n",
        "model = tree.DecisionTreeClassifier()\n",
        "model.fit(train_data,train_label)"
      ],
      "execution_count": 6,
      "outputs": [
        {
          "output_type": "execute_result",
          "data": {
            "text/plain": [
              "DecisionTreeClassifier(ccp_alpha=0.0, class_weight=None, criterion='gini',\n",
              "                       max_depth=None, max_features=None, max_leaf_nodes=None,\n",
              "                       min_impurity_decrease=0.0, min_impurity_split=None,\n",
              "                       min_samples_leaf=1, min_samples_split=2,\n",
              "                       min_weight_fraction_leaf=0.0, presort='deprecated',\n",
              "                       random_state=None, splitter='best')"
            ]
          },
          "metadata": {
            "tags": []
          },
          "execution_count": 6
        }
      ]
    },
    {
      "cell_type": "code",
      "metadata": {
        "colab": {
          "base_uri": "https://localhost:8080/"
        },
        "id": "GXgMQzYbutP9",
        "outputId": "72d037d9-bad2-4cad-a275-19b7d54cdd93"
      },
      "source": [
        "#테스트하기\n",
        "test_data = [[161,62],[171,62],[164,52],[162,64],[169,59]]\n",
        "result = model.predict(test_data)\n",
        "result"
      ],
      "execution_count": 7,
      "outputs": [
        {
          "output_type": "execute_result",
          "data": {
            "text/plain": [
              "array([2, 2, 2, 2, 2])"
            ]
          },
          "metadata": {
            "tags": []
          },
          "execution_count": 7
        }
      ]
    },
    {
      "cell_type": "code",
      "metadata": {
        "colab": {
          "base_uri": "https://localhost:8080/"
        },
        "id": "JCZJiidvvNVe",
        "outputId": "a53a6ffc-9afa-46db-8230-f09a4b2a04e8"
      },
      "source": [
        "#모델 시각화\n",
        "graph_tree = tree.export_graphviz(model,\n",
        "                                  out_file=None,\n",
        "                                  feature_names=[\"height\",\"weight\"],\n",
        "                                  filled=True)\n",
        "graph = pydotplus.graph_from_dot_data(graph_tree)\n",
        "graph.write_png(\"/content/drive/MyDrive/Colab Notebooks/file/result_tree.png\")"
      ],
      "execution_count": 10,
      "outputs": [
        {
          "output_type": "execute_result",
          "data": {
            "text/plain": [
              "True"
            ]
          },
          "metadata": {
            "tags": []
          },
          "execution_count": 10
        }
      ]
    }
  ]
}