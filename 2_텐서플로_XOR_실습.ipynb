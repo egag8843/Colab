{
  "nbformat": 4,
  "nbformat_minor": 0,
  "metadata": {
    "colab": {
      "name": "2_텐서플로 XOR 실습.ipynb",
      "provenance": [],
      "authorship_tag": "ABX9TyNJhvRHpmoOLz4gZ+XeV9xT",
      "include_colab_link": true
    },
    "kernelspec": {
      "name": "python3",
      "display_name": "Python 3"
    },
    "language_info": {
      "name": "python"
    }
  },
  "cells": [
    {
      "cell_type": "markdown",
      "metadata": {
        "id": "view-in-github",
        "colab_type": "text"
      },
      "source": [
        "<a href=\"https://colab.research.google.com/github/egag8843/Colab/blob/main/2_%ED%85%90%EC%84%9C%ED%94%8C%EB%A1%9C_XOR_%EC%8B%A4%EC%8A%B5.ipynb\" target=\"_parent\"><img src=\"https://colab.research.google.com/assets/colab-badge.svg\" alt=\"Open In Colab\"/></a>"
      ]
    },
    {
      "cell_type": "code",
      "metadata": {
        "colab": {
          "base_uri": "https://localhost:8080/",
          "height": 35
        },
        "id": "CBkgYYPcUgnU",
        "outputId": "3a7486f9-a791-4299-89b4-13b1f7fad14e"
      },
      "source": [
        "\"\"\"\n",
        "날짜 : 2021/07/12\n",
        "이름 : 장경준\n",
        "내용 : 텐서플로 XOR 실습\n",
        "\"\"\"\n",
        "\n",
        "import tensorflow as tf\n",
        "import numpy as np\n",
        "from tensorflow.keras.models import Sequential\n",
        "from tensorflow.keras.layers import Dense\n",
        "from tensorflow.keras.optimizers import Adam\n",
        "from tensorflow.keras.losses import mse\n",
        "tf. __version__"
      ],
      "execution_count": 2,
      "outputs": [
        {
          "output_type": "execute_result",
          "data": {
            "application/vnd.google.colaboratory.intrinsic+json": {
              "type": "string"
            },
            "text/plain": [
              "'2.5.0'"
            ]
          },
          "metadata": {
            "tags": []
          },
          "execution_count": 2
        }
      ]
    },
    {
      "cell_type": "code",
      "metadata": {
        "id": "eqB3p8s5UyLO"
      },
      "source": [
        "#데이터 준비\n",
        "data = np.array([[0,0],[0,1],[1,0],[1,1]])\n",
        "label = np.array([[0],[1],[1],[0]])"
      ],
      "execution_count": 16,
      "outputs": []
    },
    {
      "cell_type": "code",
      "metadata": {
        "id": "rcd94fxVVf8S"
      },
      "source": [
        "#학습모델 설계\n",
        "\n",
        "model = Sequential()\n",
        "model.add(Dense(units=100,input_dim=2,activation='sigmoid'))\n",
        "model.add(Dense(units=1, activation='sigmoid'))"
      ],
      "execution_count": 17,
      "outputs": []
    },
    {
      "cell_type": "code",
      "metadata": {
        "id": "37HOdzvJWqcq"
      },
      "source": [
        "#모델설정\n",
        "model.compile(optimizer='Adam',loss=mse,metrics=['acc'])"
      ],
      "execution_count": 18,
      "outputs": []
    },
    {
      "cell_type": "code",
      "metadata": {
        "colab": {
          "base_uri": "https://localhost:8080/"
        },
        "id": "npOyXkpAXHTr",
        "outputId": "616b1ee3-d563-4651-df40-9729a46853e5"
      },
      "source": [
        "result = model.predict([[0,1],[1,1],[1,0]])\n",
        "result"
      ],
      "execution_count": 20,
      "outputs": [
        {
          "output_type": "execute_result",
          "data": {
            "text/plain": [
              "array([[0.50615287],\n",
              "       [0.50634545],\n",
              "       [0.5058989 ]], dtype=float32)"
            ]
          },
          "metadata": {
            "tags": []
          },
          "execution_count": 20
        }
      ]
    }
  ]
}