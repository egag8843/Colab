{
  "nbformat": 4,
  "nbformat_minor": 0,
  "metadata": {
    "colab": {
      "name": "11_SVM.ipynb",
      "provenance": [],
      "mount_file_id": "1MSl0kSgipz7joageNS4mxNj_DQW08Ph5",
      "authorship_tag": "ABX9TyOq9+pSPrPUK0vyrfFHTr/D",
      "include_colab_link": true
    },
    "kernelspec": {
      "name": "python3",
      "display_name": "Python 3"
    },
    "language_info": {
      "name": "python"
    }
  },
  "cells": [
    {
      "cell_type": "markdown",
      "metadata": {
        "id": "view-in-github",
        "colab_type": "text"
      },
      "source": [
        "<a href=\"https://colab.research.google.com/github/egag8843/Colab/blob/main/11_SVM.ipynb\" target=\"_parent\"><img src=\"https://colab.research.google.com/assets/colab-badge.svg\" alt=\"Open In Colab\"/></a>"
      ]
    },
    {
      "cell_type": "code",
      "metadata": {
        "id": "h2y5wDLRtxfh"
      },
      "source": [
        "\"\"\"\n",
        "날짜 : 2021/07/07\n",
        "이름 : 장경준\n",
        "내용 : 선형회귀 분석 실습\n",
        "\"\"\"\n",
        "import pandas as pd\n",
        "from sklearn import svm, metrics\n",
        "from sklearn.model_selection import train_test_split\n",
        "from google.colab import drive"
      ],
      "execution_count": null,
      "outputs": []
    },
    {
      "cell_type": "code",
      "metadata": {
        "id": "LO3uqeOwuFDJ"
      },
      "source": [
        "df_iris = pd.read_csv(\"/content/drive/MyDrive/Colab Notebooks/file/iris.csv\")\n",
        "df_iris"
      ],
      "execution_count": null,
      "outputs": []
    },
    {
      "cell_type": "code",
      "metadata": {
        "id": "h-dHaGUWu9W9"
      },
      "source": [
        "import zipfile\n",
        "import os"
      ],
      "execution_count": null,
      "outputs": []
    },
    {
      "cell_type": "code",
      "metadata": {
        "id": "uUL8VLY2vYMh"
      },
      "source": [
        "#학습데이터\n",
        "iris_data = df_iris[['sepal.length','sepal.width','petal.length','petal.width']]\n",
        "iris_label = df_iris['variety']\n",
        "\n",
        "train_data, test_data, train_label, test_label = train_test_split(iris_data,iris_label)"
      ],
      "execution_count": null,
      "outputs": []
    },
    {
      "cell_type": "code",
      "metadata": {
        "colab": {
          "base_uri": "https://localhost:8080/"
        },
        "id": "_J8FrlX2wYmb",
        "outputId": "59e3918a-c6db-40d8-9f0c-d05f91990168"
      },
      "source": [
        "#학습하기\n",
        "model = svm.SVC()\n",
        "model.fit(train_data,train_label)"
      ],
      "execution_count": null,
      "outputs": [
        {
          "output_type": "execute_result",
          "data": {
            "text/plain": [
              "SVC(C=1.0, break_ties=False, cache_size=200, class_weight=None, coef0=0.0,\n",
              "    decision_function_shape='ovr', degree=3, gamma='scale', kernel='rbf',\n",
              "    max_iter=-1, probability=False, random_state=None, shrinking=True,\n",
              "    tol=0.001, verbose=False)"
            ]
          },
          "metadata": {
            "tags": []
          },
          "execution_count": 7
        }
      ]
    },
    {
      "cell_type": "code",
      "metadata": {
        "colab": {
          "base_uri": "https://localhost:8080/"
        },
        "id": "UvANksWjwjXt",
        "outputId": "92940846-ba47-460f-b467-cdff45b07459"
      },
      "source": [
        "#테스트하기\n",
        "result=model.predict(test_data)\n",
        "result"
      ],
      "execution_count": null,
      "outputs": [
        {
          "output_type": "execute_result",
          "data": {
            "text/plain": [
              "array(['Virginica', 'Virginica', 'Virginica', 'Setosa', 'Versicolor',\n",
              "       'Setosa', 'Versicolor', 'Versicolor', 'Virginica', 'Versicolor',\n",
              "       'Versicolor', 'Versicolor', 'Virginica', 'Setosa', 'Versicolor',\n",
              "       'Setosa', 'Virginica', 'Setosa', 'Virginica', 'Setosa', 'Setosa',\n",
              "       'Versicolor', 'Versicolor', 'Versicolor', 'Versicolor', 'Setosa',\n",
              "       'Virginica', 'Virginica', 'Setosa', 'Versicolor', 'Virginica',\n",
              "       'Virginica', 'Versicolor', 'Virginica', 'Setosa', 'Setosa',\n",
              "       'Virginica', 'Setosa'], dtype=object)"
            ]
          },
          "metadata": {
            "tags": []
          },
          "execution_count": 12
        }
      ]
    },
    {
      "cell_type": "code",
      "metadata": {
        "colab": {
          "base_uri": "https://localhost:8080/"
        },
        "id": "wlni0eHHx-Ut",
        "outputId": "2a358e20-7415-4f73-db91-b705ba7b9a28"
      },
      "source": [
        "score=metrics.accuracy_score(result,test_label)\n",
        "score"
      ],
      "execution_count": null,
      "outputs": [
        {
          "output_type": "execute_result",
          "data": {
            "text/plain": [
              "0.3157894736842105"
            ]
          },
          "metadata": {
            "tags": []
          },
          "execution_count": 16
        }
      ]
    }
  ]
}